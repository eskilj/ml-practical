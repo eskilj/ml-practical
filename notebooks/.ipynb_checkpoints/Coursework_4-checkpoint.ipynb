{
 "cells": [
  {
   "cell_type": "code",
   "execution_count": 1,
   "metadata": {
    "collapsed": false
   },
   "outputs": [],
   "source": [
    "from cw_4.layer import Conv2dLayer, PoolLayer, AffineLayer\n",
    "from cw_4.model import Model\n",
    "import cw_4.train as train_model\n",
    "import tensorflow as tf"
   ]
  },
  {
   "cell_type": "markdown",
   "metadata": {},
   "source": [
    "# Network Architecture"
   ]
  },
  {
   "cell_type": "code",
   "execution_count": 2,
   "metadata": {
    "collapsed": true
   },
   "outputs": [
    {
     "name": "stdout",
     "output_type": "stream",
     "text": [
      "Epoch 1 / 10\n",
      "Epoch 2 / 10\n",
      "Epoch 3 / 10\n",
      "Epoch 4 / 10\n",
      "Epoch 5 / 10\n",
      "Epoch 6 / 10\n",
      "Epoch 7 / 10\n",
      "Epoch 8 / 10\n",
      "Epoch 9 / 10\n",
      "Epoch 10 / 10\n",
      "Epoch 1 / 10\n",
      "Epoch 2 / 10\n",
      "Epoch 3 / 10\n",
      "Epoch 4 / 10\n",
      "Epoch 5 / 10\n",
      "Epoch 6 / 10\n",
      "Epoch 7 / 10\n",
      "Epoch 8 / 10\n",
      "Epoch 9 / 10\n",
      "Epoch 10 / 10\n",
      "Epoch 1 / 10\n",
      "Epoch 2 / 10\n",
      "Epoch 3 / 10\n",
      "Epoch 4 / 10\n",
      "Epoch 5 / 10\n",
      "Epoch 6 / 10\n",
      "Epoch 7 / 10\n",
      "Epoch 8 / 10\n",
      "Epoch 9 / 10\n",
      "Epoch 10 / 10\n"
     ]
    }
   ],
   "source": [
    "layers = [\n",
    "    Conv2dLayer([5, 5, 3, 4], [4], 'conv_1'),\n",
    "    PoolLayer('pool_1'),\n",
    "    Conv2dLayer([5, 5, 4, 4], [4], 'conv_2'),\n",
    "    PoolLayer('pool_2'),\n",
    "    AffineLayer('fc_1', True),\n",
    "    AffineLayer('fc_2', True),\n",
    "    AffineLayer('output', final_layer=True)\n",
    "]\n",
    "names = ['tanh', 'elu', 'sigmoid']\n",
    "acs = [tf.tanh, tf.nn.elu, tf.sigmoid]\n",
    "for i in range(3):\n",
    "    _mo = Model('conv/conv2,fc2,{}'.format(names[i]), layers=layers, activation=acs[i])\n",
    "    train_model.main(_mo)"
   ]
  },
  {
   "cell_type": "markdown",
   "metadata": {},
   "source": [
    "# Batch Normalisation"
   ]
  },
  {
   "cell_type": "code",
   "execution_count": null,
   "metadata": {
    "collapsed": false
   },
   "outputs": [
    {
     "name": "stdout",
     "output_type": "stream",
     "text": [
      "Epoch 1 / 10\n",
      "Epoch 2 / 10\n",
      "Epoch 3 / 10\n",
      "Epoch 4 / 10\n",
      "Epoch 5 / 10\n",
      "Epoch 6 / 10\n",
      "Epoch 7 / 10\n",
      "Epoch 8 / 10\n"
     ]
    }
   ],
   "source": [
    "layers = [\n",
    "    Conv2dLayer([5, 5, 3, 4], [4], 'conv_1', True),\n",
    "    PoolLayer('pool_1'),\n",
    "    Conv2dLayer([5, 5, 4, 4], [4], 'conv_2', True),\n",
    "    PoolLayer('pool_2'),\n",
    "    AffineLayer('fc_1', True),\n",
    "    AffineLayer('fc_2', True),\n",
    "    AffineLayer('output', final_layer=True)\n",
    "]\n",
    "names = ['elu']\n",
    "acs = [tf.nn.elu]\n",
    "for i in range(3):\n",
    "    _mo = Model('conv/conv2,fc2,{},bn'.format(names[i]), layers=layers, activation=acs[i])\n",
    "    train_model.train_graph(_mo)"
   ]
  },
  {
   "cell_type": "markdown",
   "metadata": {},
   "source": [
    "# Conv Filters"
   ]
  },
  {
   "cell_type": "code",
   "execution_count": null,
   "metadata": {
    "collapsed": true
   },
   "outputs": [],
   "source": [
    "layers = [\n",
    "    Conv2dLayer([5, 5, 3, 4], [4], 'conv_1', True),\n",
    "    PoolLayer('pool_1'),\n",
    "    Conv2dLayer([5, 5, 4, 4], [4], 'conv_2', True),\n",
    "    PoolLayer('pool_2'),\n",
    "    AffineLayer('fc_1', True),\n",
    "    AffineLayer('fc_2', True),\n",
    "    AffineLayer('output', final_layer=True)\n",
    "]\n",
    "filter_sizes = [2, 12, 64]\n",
    "for filter_size in filter_sizes:\n",
    "    _mo = Model('conv/conv2,fc2,bn,f_size={}'.format(filter_size), layers=layers, activation=tf.nn.elu)\n",
    "    train_model.train_graph(_mo)"
   ]
  }
 ],
 "metadata": {
  "anaconda-cloud": {},
  "kernelspec": {
   "display_name": "Python [conda env:mlp]",
   "language": "python",
   "name": "conda-env-mlp-py"
  },
  "language_info": {
   "codemirror_mode": {
    "name": "ipython",
    "version": 2
   },
   "file_extension": ".py",
   "mimetype": "text/x-python",
   "name": "python",
   "nbconvert_exporter": "python",
   "pygments_lexer": "ipython2",
   "version": "2.7.12"
  }
 },
 "nbformat": 4,
 "nbformat_minor": 0
}
