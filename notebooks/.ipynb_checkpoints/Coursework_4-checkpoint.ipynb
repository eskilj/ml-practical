{
 "cells": [
  {
   "cell_type": "code",
   "execution_count": 1,
   "metadata": {
    "collapsed": true
   },
   "outputs": [],
   "source": [
    "import os\n",
    "os.environ['OUTPUT_DIR'] = 'experiments'"
   ]
  },
  {
   "cell_type": "code",
   "execution_count": 2,
   "metadata": {
    "collapsed": false
   },
   "outputs": [],
   "source": [
    "from cw_4.layer import Conv2dLayer, PoolLayer, AffineLayer\n",
    "from cw_4.model import Model\n",
    "import cw_4.train as train_model\n",
    "import tensorflow as tf"
   ]
  },
  {
   "cell_type": "markdown",
   "metadata": {},
   "source": [
    "# Network Architecture"
   ]
  },
  {
   "cell_type": "code",
   "execution_count": 2,
   "metadata": {
    "collapsed": true
   },
   "outputs": [
    {
     "name": "stdout",
     "output_type": "stream",
     "text": [
      "Epoch 1 / 10\n",
      "Epoch 2 / 10\n",
      "Epoch 3 / 10\n",
      "Epoch 4 / 10\n",
      "Epoch 5 / 10\n",
      "Epoch 6 / 10\n",
      "Epoch 7 / 10\n",
      "Epoch 8 / 10\n",
      "Epoch 9 / 10\n",
      "Epoch 10 / 10\n",
      "Epoch 1 / 10\n",
      "Epoch 2 / 10\n",
      "Epoch 3 / 10\n",
      "Epoch 4 / 10\n",
      "Epoch 5 / 10\n",
      "Epoch 6 / 10\n",
      "Epoch 7 / 10\n",
      "Epoch 8 / 10\n",
      "Epoch 9 / 10\n",
      "Epoch 10 / 10\n",
      "Epoch 1 / 10\n",
      "Epoch 2 / 10\n",
      "Epoch 3 / 10\n",
      "Epoch 4 / 10\n",
      "Epoch 5 / 10\n",
      "Epoch 6 / 10\n",
      "Epoch 7 / 10\n",
      "Epoch 8 / 10\n",
      "Epoch 9 / 10\n",
      "Epoch 10 / 10\n"
     ]
    }
   ],
   "source": [
    "layers = [\n",
    "    Conv2dLayer([5, 5, 3, 4], [4], 'conv_1'),\n",
    "    PoolLayer('pool_1'),\n",
    "    Conv2dLayer([5, 5, 4, 4], [4], 'conv_2'),\n",
    "    PoolLayer('pool_2'),\n",
    "    AffineLayer('fc_1', True),\n",
    "    AffineLayer('fc_2', True),\n",
    "    AffineLayer('output', final_layer=True)\n",
    "]\n",
    "names = ['tanh', 'elu', 'sigmoid']\n",
    "acs = [tf.tanh, tf.nn.elu, tf.sigmoid]\n",
    "for i in range(3):\n",
    "    _mo = Model('conv/conv2,fc2,{}'.format(names[i]), layers=layers, activation=acs[i])\n",
    "    train_model.main(_mo)"
   ]
  },
  {
   "cell_type": "markdown",
   "metadata": {},
   "source": [
    "# Batch Normalisation"
   ]
  },
  {
   "cell_type": "code",
   "execution_count": null,
   "metadata": {
    "collapsed": false
   },
   "outputs": [],
   "source": [
    "layers = [\n",
    "    Conv2dLayer([5, 5, 3, 4], [4], 'conv_1', True),\n",
    "    PoolLayer('pool_1'),\n",
    "    Conv2dLayer([5, 5, 4, 4], [4], 'conv_2', True),\n",
    "    PoolLayer('pool_2'),\n",
    "    AffineLayer('fc_1', True),\n",
    "    AffineLayer('fc_2', True),\n",
    "    AffineLayer('output', final_layer=True)\n",
    "]\n",
    "names = ['elu']\n",
    "acs = [tf.nn.elu]\n",
    "for i in range(3):\n",
    "    _mo = Model('conv/conv2,fc2,{},bn'.format(names[i]), layers=layers, activation=acs[i])\n",
    "    train_model.train_graph(_mo)"
   ]
  },
  {
   "cell_type": "markdown",
   "metadata": {},
   "source": [
    "# Conv Filters"
   ]
  },
  {
   "cell_type": "code",
   "execution_count": 3,
   "metadata": {
    "collapsed": false
   },
   "outputs": [
    {
     "name": "stdout",
     "output_type": "stream",
     "text": [
      "Epoch 1 / 3\n",
      "Epoch 2 / 3\n",
      "Epoch 3 / 3\n",
      "Epoch 1 / 3\n",
      "Epoch 2 / 3\n",
      "Epoch 3 / 3\n"
     ]
    }
   ],
   "source": [
    "filter_sizes = [2, 8]\n",
    "num_filters = [2, 12, 24]\n",
    "\n",
    "for filter_size in filter_sizes:\n",
    "    for n_f in num_filters:\n",
    "    \n",
    "        layers = [\n",
    "            Conv2dLayer([filter_size, filter_size, 3, n_f], [n_f], 'conv_1', True),\n",
    "            PoolLayer('pool_1'),\n",
    "            Conv2dLayer([filter_size, filter_size, n_f, n_f], [n_f], 'conv_2', True),\n",
    "            PoolLayer('pool_2'),\n",
    "            AffineLayer('fc_1', True),\n",
    "            AffineLayer('fc_2', True),\n",
    "            AffineLayer('output', final_layer=True)\n",
    "        ]\n",
    "\n",
    "        _mo = Model(\n",
    "            'filters/conv2,fc2,bn,fs={},nf={}'.format(filter_size, n_f),\n",
    "            layers=layers,\n",
    "            activation=tf.nn.elu,\n",
    "            train_epochs=3\n",
    "        )\n",
    "        train_model.train_graph(_mo)"
   ]
  },
  {
   "cell_type": "code",
   "execution_count": 3,
   "metadata": {
    "collapsed": false,
    "scrolled": false
   },
   "outputs": [
    {
     "name": "stdout",
     "output_type": "stream",
     "text": [
      "Epoch 1 / 3\n",
      "Epoch 2 / 3\n",
      "Epoch 3 / 3\n"
     ]
    }
   ],
   "source": [
    "filter_sizes = [3]\n",
    "num_filters = [24]\n",
    "\n",
    "for filter_size in filter_sizes:\n",
    "    for n_f in num_filters:\n",
    "    \n",
    "        layers = [\n",
    "            Conv2dLayer([filter_size, filter_size, 3, n_f], [n_f], 'conv_1', True),\n",
    "            PoolLayer('pool_1'),\n",
    "            Conv2dLayer([filter_size, filter_size, n_f, n_f], [n_f], 'conv_2', True),\n",
    "            PoolLayer('pool_2'),\n",
    "            AffineLayer('fc_1', True),\n",
    "            AffineLayer('fc_2', True),\n",
    "            AffineLayer('output', final_layer=True)\n",
    "        ]\n",
    "\n",
    "        _mo = Model(\n",
    "            'filters/conv2,fc2,bn,fs={},nf={}'.format(filter_size, n_f),\n",
    "            layers=layers,\n",
    "            activation=tf.nn.elu,\n",
    "            train_epochs=3\n",
    "        )\n",
    "        train_model.train_graph(_mo)"
   ]
  },
  {
   "cell_type": "markdown",
   "metadata": {},
   "source": [
    "# L2 "
   ]
  },
  {
   "cell_type": "code",
   "execution_count": 2,
   "metadata": {
    "collapsed": false
   },
   "outputs": [
    {
     "name": "stdout",
     "output_type": "stream",
     "text": [
      "Epoch 1 / 3\n",
      "Epoch 2 / 3\n",
      "Epoch 3 / 3\n",
      "Epoch 1 / 3\n",
      "Epoch 2 / 3\n",
      "Epoch 3 / 3\n",
      "Epoch 1 / 3\n",
      "Epoch 2 / 3\n",
      "Epoch 3 / 3\n"
     ]
    }
   ],
   "source": [
    "# ROUND 1\n",
    "weight_decays = [0.0001, 0.005, 0.01]\n",
    "epochs = 3\n",
    "\n",
    "# ROUND 2\n",
    "weight_decays = [0.0001, 0.005, 0.01]\n",
    "epochs = 3\n",
    "\n",
    "for wd in weight_decays:\n",
    "    \n",
    "    layers = [\n",
    "        Conv2dLayer([3, 3, 3, 24], [24], 'conv_1', True),\n",
    "        PoolLayer('pool_1'),\n",
    "        Conv2dLayer([3, 3, 24, 24], [24], 'conv_2', True),\n",
    "        PoolLayer('pool_2'),\n",
    "        AffineLayer('fc_1', True, wd),\n",
    "        AffineLayer('fc_2', True, wd),\n",
    "        AffineLayer('output', final_layer=True)\n",
    "    ]\n",
    "\n",
    "    _mo = Model(\n",
    "        'l2/conv2,fc2,bn,fs=2,nf=24,wd={}'.format(wd),\n",
    "        layers=layers,\n",
    "        activation=tf.nn.elu,\n",
    "        train_epochs=3\n",
    "    )\n",
    "    train_model.train_graph(_mo)"
   ]
  },
  {
   "cell_type": "markdown",
   "metadata": {},
   "source": [
    "# Learning Rates"
   ]
  },
  {
   "cell_type": "code",
   "execution_count": 3,
   "metadata": {
    "collapsed": false
   },
   "outputs": [
    {
     "name": "stdout",
     "output_type": "stream",
     "text": [
      "Epoch 1 / 10\n",
      "Epoch 2 / 10\n",
      "Epoch 3 / 10\n",
      "Epoch 4 / 10\n",
      "Epoch 5 / 10\n",
      "Epoch 6 / 10\n",
      "Epoch 7 / 10\n",
      "Epoch 8 / 10\n",
      "Epoch 9 / 10\n",
      "Epoch 10 / 10\n",
      "Epoch 1 / 10\n",
      "Epoch 2 / 10\n",
      "Epoch 3 / 10\n",
      "Epoch 4 / 10\n",
      "Epoch 5 / 10\n",
      "Epoch 6 / 10\n",
      "Epoch 7 / 10\n",
      "Epoch 8 / 10\n",
      "Epoch 9 / 10\n",
      "Epoch 10 / 10\n"
     ]
    }
   ],
   "source": [
    "wd = 0.005\n",
    "\n",
    "# ROUND 1\n",
    "lrs = [0.001, 0.005, 0.1]\n",
    "epochs = 3\n",
    "\n",
    "# ROUND 2\n",
    "lrs = [0.002, 0.004]\n",
    "epochs = 10\n",
    "\n",
    "for lr in lrs:\n",
    "    \n",
    "    layers = [\n",
    "        Conv2dLayer([3, 3, 3, 24], [24], 'conv_1', True),\n",
    "        PoolLayer('pool_1'),\n",
    "        Conv2dLayer([3, 3, 24, 24], [24], 'conv_2', True),\n",
    "        PoolLayer('pool_2'),\n",
    "        AffineLayer('fc_1', True, wd),\n",
    "        AffineLayer('fc_2', True, wd),\n",
    "        AffineLayer('output', final_layer=True)\n",
    "    ]\n",
    "\n",
    "    _mo = Model(\n",
    "        'lr/conv2,fc2,bn,fs=3,nf=24,wd={},lr={}'.format(wd, lr),\n",
    "        layers=layers,\n",
    "        activation=tf.nn.elu,\n",
    "        train_epochs=epochs,\n",
    "        initial_lr=lr\n",
    "    )\n",
    "    train_model.train_graph(_mo)"
   ]
  },
  {
   "cell_type": "code",
   "execution_count": 3,
   "metadata": {
    "collapsed": false
   },
   "outputs": [
    {
     "name": "stdout",
     "output_type": "stream",
     "text": [
      "Epoch 01: err(train)=1.61 acc(train)=0.44\n",
      "          err(valid)=1.24 acc(valid)=0.56\n",
      "Epoch 02: err(train)=1.15 acc(train)=0.59\n",
      "          err(valid)=1.08 acc(valid)=0.62\n",
      "Epoch 03: err(train)=1.04 acc(train)=0.63\n",
      "          err(valid)=1.04 acc(valid)=0.64\n"
     ]
    }
   ],
   "source": [
    "wd = 0.005\n",
    "\n",
    "# ROUND 1\n",
    "lrs = [0.003]\n",
    "epochs = 3\n",
    "\n",
    "for lr in lrs:\n",
    "    \n",
    "    layers = [\n",
    "        Conv2dLayer([3, 3, 3, 24], [24], 'conv_1', True),\n",
    "        PoolLayer('pool_1'),\n",
    "        Conv2dLayer([3, 3, 24, 24], [24], 'conv_2', True),\n",
    "        PoolLayer('pool_2'),\n",
    "        AffineLayer('fc_1', True, wd),\n",
    "        AffineLayer('fc_2', False, wd),\n",
    "        AffineLayer('output', final_layer=True)\n",
    "    ]\n",
    "\n",
    "    _mo = Model(\n",
    "        'lr2/conv2,fc2,bn,fs=3,nf=24,wd={},lr={}'.format(wd, lr),\n",
    "        layers=layers,\n",
    "        activation=tf.nn.elu,\n",
    "        train_epochs=epochs,\n",
    "        initial_lr=lr\n",
    "    )\n",
    "    train_model.train_graph(_mo)"
   ]
  },
  {
   "cell_type": "code",
   "execution_count": null,
   "metadata": {
    "collapsed": true
   },
   "outputs": [],
   "source": []
  }
 ],
 "metadata": {
  "anaconda-cloud": {},
  "kernelspec": {
   "display_name": "Python [conda env:mlp]",
   "language": "python",
   "name": "conda-env-mlp-py"
  },
  "language_info": {
   "codemirror_mode": {
    "name": "ipython",
    "version": 2
   },
   "file_extension": ".py",
   "mimetype": "text/x-python",
   "name": "python",
   "nbconvert_exporter": "python",
   "pygments_lexer": "ipython2",
   "version": "2.7.12"
  }
 },
 "nbformat": 4,
 "nbformat_minor": 0
}
