{
 "cells": [
  {
   "cell_type": "code",
   "execution_count": 7,
   "metadata": {
    "collapsed": true
   },
   "outputs": [],
   "source": [
    "from cw_4.layer import Conv2dLayer, PoolLayer, AffineLayer\n",
    "from cw_4.model import Model\n",
    "import cw_4.train as train_model\n",
    "import tensorflow as tf"
   ]
  },
  {
   "cell_type": "markdown",
   "metadata": {},
   "source": [
    "# BASE RUN"
   ]
  },
  {
   "cell_type": "code",
   "execution_count": 8,
   "metadata": {
    "collapsed": false
   },
   "outputs": [
    {
     "ename": "IndentationError",
     "evalue": "expected an indented block (<ipython-input-8-a6581b837815>, line 9)",
     "output_type": "error",
     "traceback": [
      "\u001b[0;36m  File \u001b[0;32m\"<ipython-input-8-a6581b837815>\"\u001b[0;36m, line \u001b[0;32m9\u001b[0m\n\u001b[0;31m    layers = [\u001b[0m\n\u001b[0m         ^\u001b[0m\n\u001b[0;31mIndentationError\u001b[0m\u001b[0;31m:\u001b[0m expected an indented block\n"
     ]
    }
   ],
   "source": [
    "wd = None\n",
    "lrs = [0.001, 0.01]\n",
    "acs = [tf.tanh, tf.nn.elu, tf.sigmoid, tf.nn.relu]\n",
    "epochs = 5\n",
    "\n",
    "for lr in lrs:\n",
    "    for ac in acs:\n",
    "    \n",
    "        layers = [\n",
    "            Conv2dLayer([3, 3, 3, 24], [24], 'conv_1'),\n",
    "            PoolLayer('pool_1'),\n",
    "            Conv2dLayer([3, 3, 24, 24], [24], 'conv_2'),\n",
    "            PoolLayer('pool_2'),\n",
    "            AffineLayer(name='fc_1', flatten_inputs=True),\n",
    "            AffineLayer(name='fc_2'),\n",
    "            AffineLayer(name='output', final_layer=True)\n",
    "        ]\n",
    "\n",
    "        _mo = Model(\n",
    "            'cw4/conv2,fc2,{},fs=3,nf=24,lr={}'.format(ac, lr),\n",
    "            layers=layers,\n",
    "            activation=ac,\n",
    "            train_epochs=epochs,\n",
    "            initial_lr=lr\n",
    "        )\n",
    "        train_model.train_graph(_mo)"
   ]
  },
  {
   "cell_type": "code",
   "execution_count": null,
   "metadata": {
    "collapsed": true
   },
   "outputs": [],
   "source": []
  }
 ],
 "metadata": {
  "kernelspec": {
   "display_name": "Python [conda env:mlp]",
   "language": "python",
   "name": "conda-env-mlp-py"
  },
  "language_info": {
   "codemirror_mode": {
    "name": "ipython",
    "version": 2
   },
   "file_extension": ".py",
   "mimetype": "text/x-python",
   "name": "python",
   "nbconvert_exporter": "python",
   "pygments_lexer": "ipython2",
   "version": "2.7.12"
  }
 },
 "nbformat": 4,
 "nbformat_minor": 1
}
