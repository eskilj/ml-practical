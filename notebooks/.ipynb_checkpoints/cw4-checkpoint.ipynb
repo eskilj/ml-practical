{
 "cells": [
  {
   "cell_type": "code",
   "execution_count": 7,
   "metadata": {
    "collapsed": true
   },
   "outputs": [],
   "source": [
    "from cw_4.layer import Conv2dLayer, PoolLayer, AffineLayer\n",
    "from cw_4.model import Model\n",
    "import cw_4.train as train_model\n",
    "import tensorflow as tf"
   ]
  },
  {
   "cell_type": "markdown",
   "metadata": {},
   "source": [
    "# BASE RUN"
   ]
  },
  {
   "cell_type": "code",
   "execution_count": null,
   "metadata": {
    "collapsed": false,
    "scrolled": true
   },
   "outputs": [
    {
     "name": "stdout",
     "output_type": "stream",
     "text": [
      "Epoch 01: err(train)=1.48 acc(train)=0.48\n",
      "          err(valid)=1.28 acc(valid)=0.55\n",
      "Epoch 02: err(train)=1.17 acc(train)=0.59\n",
      "          err(valid)=1.14 acc(valid)=0.60\n",
      "Epoch 03: err(train)=1.04 acc(train)=0.63\n",
      "          err(valid)=1.09 acc(valid)=0.61\n",
      "Epoch 04: err(train)=0.94 acc(train)=0.67\n",
      "          err(valid)=1.00 acc(valid)=0.65\n",
      "Epoch 05: err(train)=0.86 acc(train)=0.70\n",
      "          err(valid)=1.00 acc(valid)=0.66\n",
      "Epoch 06: err(train)=0.78 acc(train)=0.73\n",
      "          err(valid)=0.97 acc(valid)=0.67\n",
      "Epoch 07: err(train)=0.69 acc(train)=0.76\n",
      "          err(valid)=1.00 acc(valid)=0.67\n",
      "Epoch 08: err(train)=0.61 acc(train)=0.79\n",
      "          err(valid)=0.99 acc(valid)=0.68\n",
      "Epoch 09: err(train)=0.52 acc(train)=0.82\n",
      "          err(valid)=1.13 acc(valid)=0.67\n",
      "Epoch 10: err(train)=0.43 acc(train)=0.85\n",
      "          err(valid)=1.15 acc(valid)=0.67\n",
      "Epoch 01: err(train)=1.46 acc(train)=0.47\n",
      "          err(valid)=1.22 acc(valid)=0.56\n",
      "Epoch 02: err(train)=1.10 acc(train)=0.61\n",
      "          err(valid)=1.06 acc(valid)=0.63\n",
      "Epoch 03: err(train)=0.94 acc(train)=0.67\n",
      "          err(valid)=1.01 acc(valid)=0.64\n",
      "Epoch 04: err(train)=0.81 acc(train)=0.72\n",
      "          err(valid)=0.96 acc(valid)=0.66\n",
      "Epoch 05: err(train)=0.67 acc(train)=0.76\n",
      "          err(valid)=0.93 acc(valid)=0.68\n"
     ]
    }
   ],
   "source": [
    "wd = None\n",
    "lrs = [0.0005, 0.005]\n",
    "acs = [tf.nn.elu, tf.nn.relu]\n",
    "epochs = 10\n",
    "\n",
    "for lr in lrs:\n",
    "    for ac in acs:\n",
    "    \n",
    "        layers = [\n",
    "            Conv2dLayer([3, 3, 3, 24], [24], 'conv_1'),\n",
    "            PoolLayer('pool_1'),\n",
    "            Conv2dLayer([3, 3, 24, 24], [24], 'conv_2'),\n",
    "            PoolLayer('pool_2'),\n",
    "            AffineLayer(name='fc_1', flatten_inputs=True),\n",
    "            AffineLayer(name='fc_2'),\n",
    "            AffineLayer(name='output', final_layer=True)\n",
    "        ]\n",
    "\n",
    "        _mo = Model(\n",
    "            'cw4/{},fs=3,nf=24,lr={}'.format(ac.func_name, lr),\n",
    "            layers=layers,\n",
    "            activation=ac,\n",
    "            train_epochs=epochs,\n",
    "            initial_lr=lr\n",
    "        )\n",
    "        train_model.train_graph(_mo)"
   ]
  },
  {
   "cell_type": "code",
   "execution_count": 28,
   "metadata": {
    "collapsed": false
   },
   "outputs": [
    {
     "name": "stdout",
     "output_type": "stream",
     "text": [
      "[ 1.23031878  1.15508735  1.07858193  1.03321815  1.04958022]\n",
      "[ 0.57200003  0.59810001  0.61799997  0.63889998  0.63330001]\n",
      "Best acc: 0.681400001049, by run tf-log/cw4/conv2,fc2,<function relu at 0x110251c80>,fs=3,nf=24,lr=0.001/run.npz\n"
     ]
    }
   ],
   "source": [
    "import os\n",
    "import numpy as np\n",
    "\n",
    "best_acc = 0\n",
    "best_run = ''\n",
    "\n",
    "best_acc2 = 0\n",
    "best_run2 = ''\n",
    "\n",
    "for root, dirs, files in os.walk(\"tf-log/cw4\"):\n",
    "    for file in files:\n",
    "        if file.endswith(\".npz\"):\n",
    "            path = os.path.join(root, file)\n",
    "            data = np.load(path)\n",
    "            final_acc = data['valid_accuracy'][-1]\n",
    "            if final_acc > best_acc:\n",
    "                best_acc = final_acc\n",
    "                best_run = path\n",
    "            elif final_acc > best_acc2:\n",
    "                best_acc2 = final_acc\n",
    "                best_run2 = path\n",
    "\n",
    "print('Best acc: {}, by run {}'.format(best_acc, best_run))\n",
    "print('2nd Best acc: {}, by run {}'.format(best_acc2, best_run2))"
   ]
  },
  {
   "cell_type": "code",
   "execution_count": null,
   "metadata": {
    "collapsed": true
   },
   "outputs": [],
   "source": []
  }
 ],
 "metadata": {
  "kernelspec": {
   "display_name": "Python [conda env:mlp]",
   "language": "python",
   "name": "conda-env-mlp-py"
  },
  "language_info": {
   "codemirror_mode": {
    "name": "ipython",
    "version": 2
   },
   "file_extension": ".py",
   "mimetype": "text/x-python",
   "name": "python",
   "nbconvert_exporter": "python",
   "pygments_lexer": "ipython2",
   "version": "2.7.12"
  }
 },
 "nbformat": 4,
 "nbformat_minor": 1
}
