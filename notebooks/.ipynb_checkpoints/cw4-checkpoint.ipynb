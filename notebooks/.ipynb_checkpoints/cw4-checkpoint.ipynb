{
 "cells": [
  {
   "cell_type": "code",
   "execution_count": 7,
   "metadata": {
    "collapsed": true
   },
   "outputs": [],
   "source": [
    "from cw_4.layer import Conv2dLayer, PoolLayer, AffineLayer\n",
    "from cw_4.model import Model\n",
    "import cw_4.train as train_model\n",
    "import tensorflow as tf"
   ]
  },
  {
   "cell_type": "markdown",
   "metadata": {},
   "source": [
    "# BASE RUN"
   ]
  },
  {
   "cell_type": "code",
   "execution_count": 29,
   "metadata": {
    "collapsed": true
   },
   "outputs": [
    {
     "name": "stdout",
     "output_type": "stream",
     "text": [
      "Epoch 01: err(train)=1.48 acc(train)=0.48\n",
      "          err(valid)=1.28 acc(valid)=0.55\n",
      "Epoch 02: err(train)=1.17 acc(train)=0.59\n",
      "          err(valid)=1.14 acc(valid)=0.60\n",
      "Epoch 03: err(train)=1.04 acc(train)=0.63\n",
      "          err(valid)=1.09 acc(valid)=0.61\n",
      "Epoch 04: err(train)=0.94 acc(train)=0.67\n",
      "          err(valid)=1.00 acc(valid)=0.65\n",
      "Epoch 05: err(train)=0.86 acc(train)=0.70\n",
      "          err(valid)=1.00 acc(valid)=0.66\n",
      "Epoch 06: err(train)=0.78 acc(train)=0.73\n",
      "          err(valid)=0.97 acc(valid)=0.67\n",
      "Epoch 07: err(train)=0.69 acc(train)=0.76\n",
      "          err(valid)=1.00 acc(valid)=0.67\n",
      "Epoch 08: err(train)=0.61 acc(train)=0.79\n",
      "          err(valid)=0.99 acc(valid)=0.68\n",
      "Epoch 09: err(train)=0.52 acc(train)=0.82\n",
      "          err(valid)=1.13 acc(valid)=0.67\n",
      "Epoch 10: err(train)=0.43 acc(train)=0.85\n",
      "          err(valid)=1.15 acc(valid)=0.67\n",
      "Epoch 01: err(train)=1.46 acc(train)=0.47\n",
      "          err(valid)=1.22 acc(valid)=0.56\n",
      "Epoch 02: err(train)=1.10 acc(train)=0.61\n",
      "          err(valid)=1.06 acc(valid)=0.63\n",
      "Epoch 03: err(train)=0.94 acc(train)=0.67\n",
      "          err(valid)=1.01 acc(valid)=0.64\n",
      "Epoch 04: err(train)=0.81 acc(train)=0.72\n",
      "          err(valid)=0.96 acc(valid)=0.66\n",
      "Epoch 05: err(train)=0.67 acc(train)=0.76\n",
      "          err(valid)=0.93 acc(valid)=0.68\n",
      "Epoch 06: err(train)=0.55 acc(train)=0.81\n",
      "          err(valid)=0.96 acc(valid)=0.68\n",
      "Epoch 07: err(train)=0.42 acc(train)=0.85\n",
      "          err(valid)=1.01 acc(valid)=0.69\n",
      "Epoch 08: err(train)=0.30 acc(train)=0.90\n",
      "          err(valid)=1.14 acc(valid)=0.68\n",
      "Epoch 09: err(train)=0.21 acc(train)=0.93\n",
      "          err(valid)=1.37 acc(valid)=0.66\n",
      "Epoch 10: err(train)=0.16 acc(train)=0.95\n",
      "          err(valid)=1.38 acc(valid)=0.68\n",
      "Epoch 01: err(train)=1.98 acc(train)=0.39\n",
      "          err(valid)=1.41 acc(valid)=0.50\n",
      "Epoch 02: err(train)=1.37 acc(train)=0.52\n",
      "          err(valid)=1.59 acc(valid)=0.51\n",
      "Epoch 03: err(train)=1.24 acc(train)=0.58\n",
      "          err(valid)=1.28 acc(valid)=0.56\n",
      "Epoch 04: err(train)=1.16 acc(train)=0.61\n",
      "          err(valid)=1.20 acc(valid)=0.60\n",
      "Epoch 05: err(train)=1.04 acc(train)=0.65\n",
      "          err(valid)=1.15 acc(valid)=0.62\n",
      "Epoch 06: err(train)=0.94 acc(train)=0.69\n",
      "          err(valid)=1.28 acc(valid)=0.62\n",
      "Epoch 07: err(train)=0.86 acc(train)=0.72\n",
      "          err(valid)=1.29 acc(valid)=0.65\n",
      "Epoch 08: err(train)=0.77 acc(train)=0.75\n",
      "          err(valid)=1.44 acc(valid)=0.63\n",
      "Epoch 09: err(train)=0.67 acc(train)=0.79\n",
      "          err(valid)=1.63 acc(valid)=0.63\n",
      "Epoch 10: err(train)=0.63 acc(train)=0.81\n",
      "          err(valid)=1.62 acc(valid)=0.65\n",
      "Epoch 01: err(train)=1.68 acc(train)=0.38\n",
      "          err(valid)=1.43 acc(valid)=0.48\n",
      "Epoch 02: err(train)=1.37 acc(train)=0.51\n",
      "          err(valid)=1.40 acc(valid)=0.50\n",
      "Epoch 03: err(train)=1.25 acc(train)=0.55\n",
      "          err(valid)=1.30 acc(valid)=0.54\n",
      "Epoch 04: err(train)=1.17 acc(train)=0.58\n",
      "          err(valid)=1.30 acc(valid)=0.55\n",
      "Epoch 05: err(train)=1.08 acc(train)=0.61\n",
      "          err(valid)=1.27 acc(valid)=0.57\n",
      "Epoch 06: err(train)=1.00 acc(train)=0.65\n",
      "          err(valid)=1.28 acc(valid)=0.57\n",
      "Epoch 07: err(train)=0.92 acc(train)=0.67\n",
      "          err(valid)=1.32 acc(valid)=0.55\n",
      "Epoch 08: err(train)=0.84 acc(train)=0.70\n",
      "          err(valid)=1.35 acc(valid)=0.57\n",
      "Epoch 09: err(train)=0.77 acc(train)=0.73\n",
      "          err(valid)=1.48 acc(valid)=0.55\n",
      "Epoch 10: err(train)=0.70 acc(train)=0.75\n",
      "          err(valid)=1.67 acc(valid)=0.53\n"
     ]
    }
   ],
   "source": [
    "wd = None\n",
    "lrs = [0.0005, 0.005]\n",
    "acs = [tf.nn.elu, tf.nn.relu]\n",
    "epochs = 10\n",
    "\n",
    "for lr in lrs:\n",
    "    for ac in acs:\n",
    "    \n",
    "        layers = [\n",
    "            Conv2dLayer([3, 3, 3, 24], [24], 'conv_1'),\n",
    "            PoolLayer('pool_1'),\n",
    "            Conv2dLayer([3, 3, 24, 24], [24], 'conv_2'),\n",
    "            PoolLayer('pool_2'),\n",
    "            AffineLayer(name='fc_1', flatten_inputs=True),\n",
    "            AffineLayer(name='fc_2'),\n",
    "            AffineLayer(name='output', final_layer=True)\n",
    "        ]\n",
    "\n",
    "        _mo = Model(\n",
    "            'cw4/{},fs=3,nf=24,lr={}'.format(ac.func_name, lr),\n",
    "            layers=layers,\n",
    "            activation=ac,\n",
    "            train_epochs=epochs,\n",
    "            initial_lr=lr\n",
    "        )\n",
    "        train_model.train_graph(_mo)"
   ]
  },
  {
   "cell_type": "markdown",
   "metadata": {},
   "source": [
    "best result relu and lr = 0.0005"
   ]
  },
  {
   "cell_type": "code",
   "execution_count": 34,
   "metadata": {
    "collapsed": false
   },
   "outputs": [
    {
     "name": "stdout",
     "output_type": "stream",
     "text": [
      "Best acc: 0.681400001049, by run tf-log/cw4/conv2,fc2,<function relu at 0x110251c80>,fs=3,nf=24,lr=0.001/run.npz\n",
      "2nd Best acc: 0.681400001049, by run tf-log/cw4/relu,fs=3,nf=24,lr=0.0005/run.npz\n"
     ]
    }
   ],
   "source": [
    "import os\n",
    "import numpy as np\n",
    "\n",
    "best_acc = 0\n",
    "best_run = ''\n",
    "\n",
    "best_acc2 = 0\n",
    "best_run2 = ''\n",
    "\n",
    "for root, dirs, files in os.walk(\"tf-log/cw4\"):\n",
    "    for file in files:\n",
    "        if file.endswith(\".npz\"):\n",
    "            path = os.path.join(root, file)\n",
    "            data = np.load(path)\n",
    "            final_acc = data['valid_accuracy'][-1]\n",
    "            if final_acc > best_acc:\n",
    "                best_acc = final_acc\n",
    "                best_run = path\n",
    "            elif final_acc > best_acc2:\n",
    "                best_acc2 = final_acc\n",
    "                best_run2 = path\n",
    "\n",
    "print('Best acc: {}, by run {}'.format(best_acc, best_run))\n",
    "print('2nd Best acc: {}, by run {}'.format(best_acc2, best_run2))"
   ]
  },
  {
   "cell_type": "code",
   "execution_count": 32,
   "metadata": {
    "collapsed": false
   },
   "outputs": [
    {
     "name": "stdout",
     "output_type": "stream",
     "text": [
      "Epoch 01: err(train)=1.86 acc(train)=0.32\n",
      "          err(valid)=1.70 acc(valid)=0.37\n",
      "Epoch 02: err(train)=1.60 acc(train)=0.41\n",
      "          err(valid)=1.57 acc(valid)=0.43\n",
      "Epoch 03: err(train)=1.51 acc(train)=0.45\n",
      "          err(valid)=1.49 acc(valid)=0.46\n",
      "Epoch 04: err(train)=1.43 acc(train)=0.48\n",
      "          err(valid)=1.53 acc(valid)=0.45\n",
      "Epoch 05: err(train)=1.36 acc(train)=0.51\n",
      "          err(valid)=1.51 acc(valid)=0.47\n",
      "Epoch 06: err(train)=1.27 acc(train)=0.55\n",
      "          err(valid)=1.48 acc(valid)=0.48\n",
      "Epoch 07: err(train)=1.20 acc(train)=0.57\n",
      "          err(valid)=1.46 acc(valid)=0.51\n",
      "Epoch 08: err(train)=1.11 acc(train)=0.60\n",
      "          err(valid)=1.56 acc(valid)=0.48\n",
      "Epoch 09: err(train)=1.03 acc(train)=0.63\n",
      "          err(valid)=1.55 acc(valid)=0.51\n",
      "Epoch 10: err(train)=0.97 acc(train)=0.66\n",
      "          err(valid)=1.69 acc(valid)=0.48\n",
      "Epoch 01: err(train)=1.81 acc(train)=0.34\n",
      "          err(valid)=1.61 acc(valid)=0.42\n",
      "Epoch 02: err(train)=1.56 acc(train)=0.43\n",
      "          err(valid)=1.66 acc(valid)=0.42\n",
      "Epoch 03: err(train)=1.47 acc(train)=0.47\n",
      "          err(valid)=1.57 acc(valid)=0.44\n",
      "Epoch 04: err(train)=1.41 acc(train)=0.49\n",
      "          err(valid)=1.52 acc(valid)=0.46\n",
      "Epoch 05: err(train)=1.34 acc(train)=0.52\n",
      "          err(valid)=1.46 acc(valid)=0.48\n",
      "Epoch 06: err(train)=1.28 acc(train)=0.54\n",
      "          err(valid)=1.50 acc(valid)=0.49\n",
      "Epoch 07: err(train)=1.23 acc(train)=0.56\n",
      "          err(valid)=1.60 acc(valid)=0.46\n",
      "Epoch 08: err(train)=1.15 acc(train)=0.59\n",
      "          err(valid)=1.58 acc(valid)=0.48\n",
      "Epoch 09: err(train)=1.09 acc(train)=0.61\n",
      "          err(valid)=1.63 acc(valid)=0.49\n",
      "Epoch 10: err(train)=1.03 acc(train)=0.64\n",
      "          err(valid)=1.65 acc(valid)=0.48\n"
     ]
    }
   ],
   "source": [
    "wd = None\n",
    "\n",
    "lrs = [0.005]\n",
    "acs = [tf.nn.relu]\n",
    "f_sizes = [5, 7]\n",
    "num_f = [24]\n",
    "epochs = 10\n",
    "\n",
    "for lr in lrs:\n",
    "    for ac in acs:\n",
    "        for fs in f_sizes:\n",
    "            for nf in num_f:\n",
    "                layers = [\n",
    "                    Conv2dLayer([fs, fs, 3, nf], [nf], 'conv_1'),\n",
    "                    PoolLayer('pool_1'),\n",
    "                    Conv2dLayer([fs, fs, nf, nf], [nf], 'conv_2'),\n",
    "                    PoolLayer('pool_2'),\n",
    "                    AffineLayer(name='fc_1', flatten_inputs=True),\n",
    "                    AffineLayer(name='fc_2'),\n",
    "                    AffineLayer(name='output', final_layer=True)\n",
    "                ]\n",
    "\n",
    "                _mo = Model(\n",
    "                    'cw4/{},fs={},nf={},lr={}'.format(ac.func_name, fs, nf, lr),\n",
    "                    layers=layers,\n",
    "                    activation=ac,\n",
    "                    train_epochs=epochs,\n",
    "                    initial_lr=lr\n",
    "                )\n",
    "\n",
    "                train_model.train_graph(_mo)"
   ]
  },
  {
   "cell_type": "code",
   "execution_count": 35,
   "metadata": {
    "collapsed": false
   },
   "outputs": [
    {
     "ename": "ValueError",
     "evalue": "Shape must be rank 2 but is rank 0 for 'fc_1/MatMul' (op: 'MatMul') with input shapes: [?,1536], [].",
     "output_type": "error",
     "traceback": [
      "\u001b[0;31m---------------------------------------------------------------------------\u001b[0m",
      "\u001b[0;31mValueError\u001b[0m                                Traceback (most recent call last)",
      "\u001b[0;32m<ipython-input-35-30635be4de8c>\u001b[0m in \u001b[0;36m<module>\u001b[0;34m()\u001b[0m\n\u001b[1;32m     29\u001b[0m                 )\n\u001b[1;32m     30\u001b[0m \u001b[0;34m\u001b[0m\u001b[0m\n\u001b[0;32m---> 31\u001b[0;31m                 \u001b[0mtrain_model\u001b[0m\u001b[0;34m.\u001b[0m\u001b[0mtrain_graph\u001b[0m\u001b[0;34m(\u001b[0m\u001b[0m_mo\u001b[0m\u001b[0;34m)\u001b[0m\u001b[0;34m\u001b[0m\u001b[0m\n\u001b[0m",
      "\u001b[0;32m/Users/EJ/mlpractical/cw_4/train.py\u001b[0m in \u001b[0;36mtrain_graph\u001b[0;34m(model)\u001b[0m\n\u001b[1;32m     50\u001b[0m \u001b[0;34m\u001b[0m\u001b[0m\n\u001b[1;32m     51\u001b[0m         \u001b[0mtf\u001b[0m\u001b[0;34m.\u001b[0m\u001b[0msummary\u001b[0m\u001b[0;34m.\u001b[0m\u001b[0mimage\u001b[0m\u001b[0;34m(\u001b[0m\u001b[0;34m'img'\u001b[0m\u001b[0;34m,\u001b[0m \u001b[0minputs\u001b[0m\u001b[0;34m)\u001b[0m\u001b[0;34m\u001b[0m\u001b[0m\n\u001b[0;32m---> 52\u001b[0;31m         \u001b[0moutputs\u001b[0m \u001b[0;34m=\u001b[0m \u001b[0mmodel\u001b[0m\u001b[0;34m.\u001b[0m\u001b[0mget_layers\u001b[0m\u001b[0;34m(\u001b[0m\u001b[0minputs\u001b[0m\u001b[0;34m)\u001b[0m\u001b[0;34m\u001b[0m\u001b[0m\n\u001b[0m\u001b[1;32m     53\u001b[0m \u001b[0;34m\u001b[0m\u001b[0m\n\u001b[1;32m     54\u001b[0m         \u001b[0;32mwith\u001b[0m \u001b[0mtf\u001b[0m\u001b[0;34m.\u001b[0m\u001b[0mname_scope\u001b[0m\u001b[0;34m(\u001b[0m\u001b[0;34m'error'\u001b[0m\u001b[0;34m)\u001b[0m\u001b[0;34m:\u001b[0m\u001b[0;34m\u001b[0m\u001b[0m\n",
      "\u001b[0;32m/Users/EJ/mlpractical/cw_4/model.pyc\u001b[0m in \u001b[0;36mget_layers\u001b[0;34m(self, inputs)\u001b[0m\n\u001b[1;32m     20\u001b[0m                 \u001b[0mlayer\u001b[0m\u001b[0;34m.\u001b[0m\u001b[0mset_inputs\u001b[0m\u001b[0;34m(\u001b[0m\u001b[0minputs\u001b[0m\u001b[0;34m)\u001b[0m\u001b[0;34m\u001b[0m\u001b[0m\n\u001b[1;32m     21\u001b[0m             \u001b[0;32melse\u001b[0m\u001b[0;34m:\u001b[0m\u001b[0;34m\u001b[0m\u001b[0m\n\u001b[0;32m---> 22\u001b[0;31m                 \u001b[0mlayer\u001b[0m\u001b[0;34m.\u001b[0m\u001b[0mset_inputs\u001b[0m\u001b[0;34m(\u001b[0m\u001b[0mself\u001b[0m\u001b[0;34m.\u001b[0m\u001b[0mlayers\u001b[0m\u001b[0;34m[\u001b[0m\u001b[0mi\u001b[0m \u001b[0;34m-\u001b[0m \u001b[0;36m1\u001b[0m\u001b[0;34m]\u001b[0m\u001b[0;34m.\u001b[0m\u001b[0moutputs\u001b[0m\u001b[0;34m)\u001b[0m\u001b[0;34m\u001b[0m\u001b[0m\n\u001b[0m\u001b[1;32m     23\u001b[0m \u001b[0;34m\u001b[0m\u001b[0m\n\u001b[1;32m     24\u001b[0m         \u001b[0;32mreturn\u001b[0m \u001b[0mself\u001b[0m\u001b[0;34m.\u001b[0m\u001b[0mlayers\u001b[0m\u001b[0;34m[\u001b[0m\u001b[0;34m-\u001b[0m\u001b[0;36m1\u001b[0m\u001b[0;34m]\u001b[0m\u001b[0;34m.\u001b[0m\u001b[0moutputs\u001b[0m\u001b[0;34m\u001b[0m\u001b[0m\n",
      "\u001b[0;32m/Users/EJ/mlpractical/cw_4/layer.py\u001b[0m in \u001b[0;36mset_inputs\u001b[0;34m(self, inputs)\u001b[0m\n\u001b[1;32m     86\u001b[0m             \u001b[0mself\u001b[0m\u001b[0;34m.\u001b[0m\u001b[0mflatten\u001b[0m\u001b[0;34m(\u001b[0m\u001b[0;34m)\u001b[0m\u001b[0;34m\u001b[0m\u001b[0m\n\u001b[1;32m     87\u001b[0m         \u001b[0mself\u001b[0m\u001b[0;34m.\u001b[0m\u001b[0mset_outputs\u001b[0m\u001b[0;34m(\u001b[0m\u001b[0;34m)\u001b[0m\u001b[0;34m\u001b[0m\u001b[0m\n\u001b[0;32m---> 88\u001b[0;31m \u001b[0;34m\u001b[0m\u001b[0m\n\u001b[0m\u001b[1;32m     89\u001b[0m     \u001b[0;32mdef\u001b[0m \u001b[0mset_outputs\u001b[0m\u001b[0;34m(\u001b[0m\u001b[0mself\u001b[0m\u001b[0;34m)\u001b[0m\u001b[0;34m:\u001b[0m\u001b[0;34m\u001b[0m\u001b[0m\n\u001b[1;32m     90\u001b[0m         \u001b[0;32mwith\u001b[0m \u001b[0mtf\u001b[0m\u001b[0;34m.\u001b[0m\u001b[0mname_scope\u001b[0m\u001b[0;34m(\u001b[0m\u001b[0mself\u001b[0m\u001b[0;34m.\u001b[0m\u001b[0mname\u001b[0m\u001b[0;34m)\u001b[0m\u001b[0;34m:\u001b[0m\u001b[0;34m\u001b[0m\u001b[0m\n",
      "\u001b[0;32m/Users/EJ/mlpractical/cw_4/layer.py\u001b[0m in \u001b[0;36mset_outputs\u001b[0;34m(self)\u001b[0m\n\u001b[1;32m    102\u001b[0m             \u001b[0;32melse\u001b[0m\u001b[0;34m:\u001b[0m\u001b[0;34m\u001b[0m\u001b[0m\n\u001b[1;32m    103\u001b[0m                 \u001b[0mself\u001b[0m\u001b[0;34m.\u001b[0m\u001b[0moutputs\u001b[0m \u001b[0;34m=\u001b[0m \u001b[0mself\u001b[0m\u001b[0;34m.\u001b[0m\u001b[0mactivation\u001b[0m\u001b[0;34m(\u001b[0m\u001b[0mtf\u001b[0m\u001b[0;34m.\u001b[0m\u001b[0mmatmul\u001b[0m\u001b[0;34m(\u001b[0m\u001b[0mself\u001b[0m\u001b[0;34m.\u001b[0m\u001b[0minputs\u001b[0m\u001b[0;34m,\u001b[0m \u001b[0mweights\u001b[0m\u001b[0;34m)\u001b[0m \u001b[0;34m+\u001b[0m \u001b[0mbiases\u001b[0m\u001b[0;34m)\u001b[0m\u001b[0;34m\u001b[0m\u001b[0m\n\u001b[0;32m--> 104\u001b[0;31m \u001b[0;34m\u001b[0m\u001b[0m\n\u001b[0m\u001b[1;32m    105\u001b[0m \u001b[0;34m\u001b[0m\u001b[0m\n\u001b[1;32m    106\u001b[0m \u001b[0;32mclass\u001b[0m \u001b[0mPoolLayer\u001b[0m\u001b[0;34m(\u001b[0m\u001b[0mLayer\u001b[0m\u001b[0;34m)\u001b[0m\u001b[0;34m:\u001b[0m\u001b[0;34m\u001b[0m\u001b[0m\n",
      "\u001b[0;32m/Users/EJ/miniconda2/envs/mlp/lib/python2.7/site-packages/tensorflow/python/ops/math_ops.pyc\u001b[0m in \u001b[0;36mmatmul\u001b[0;34m(a, b, transpose_a, transpose_b, adjoint_a, adjoint_b, a_is_sparse, b_is_sparse, name)\u001b[0m\n\u001b[1;32m   1727\u001b[0m     \u001b[0;32melse\u001b[0m\u001b[0;34m:\u001b[0m\u001b[0;34m\u001b[0m\u001b[0m\n\u001b[1;32m   1728\u001b[0m       return gen_math_ops._mat_mul(\n\u001b[0;32m-> 1729\u001b[0;31m           a, b, transpose_a=transpose_a, transpose_b=transpose_b, name=name)\n\u001b[0m\u001b[1;32m   1730\u001b[0m \u001b[0;34m\u001b[0m\u001b[0m\n\u001b[1;32m   1731\u001b[0m \u001b[0;34m\u001b[0m\u001b[0m\n",
      "\u001b[0;32m/Users/EJ/miniconda2/envs/mlp/lib/python2.7/site-packages/tensorflow/python/ops/gen_math_ops.pyc\u001b[0m in \u001b[0;36m_mat_mul\u001b[0;34m(a, b, transpose_a, transpose_b, name)\u001b[0m\n\u001b[1;32m   1440\u001b[0m   \"\"\"\n\u001b[1;32m   1441\u001b[0m   result = _op_def_lib.apply_op(\"MatMul\", a=a, b=b, transpose_a=transpose_a,\n\u001b[0;32m-> 1442\u001b[0;31m                                 transpose_b=transpose_b, name=name)\n\u001b[0m\u001b[1;32m   1443\u001b[0m   \u001b[0;32mreturn\u001b[0m \u001b[0mresult\u001b[0m\u001b[0;34m\u001b[0m\u001b[0m\n\u001b[1;32m   1444\u001b[0m \u001b[0;34m\u001b[0m\u001b[0m\n",
      "\u001b[0;32m/Users/EJ/miniconda2/envs/mlp/lib/python2.7/site-packages/tensorflow/python/framework/op_def_library.pyc\u001b[0m in \u001b[0;36mapply_op\u001b[0;34m(self, op_type_name, name, **keywords)\u001b[0m\n\u001b[1;32m    757\u001b[0m         op = g.create_op(op_type_name, inputs, output_types, name=scope,\n\u001b[1;32m    758\u001b[0m                          \u001b[0minput_types\u001b[0m\u001b[0;34m=\u001b[0m\u001b[0minput_types\u001b[0m\u001b[0;34m,\u001b[0m \u001b[0mattrs\u001b[0m\u001b[0;34m=\u001b[0m\u001b[0mattr_protos\u001b[0m\u001b[0;34m,\u001b[0m\u001b[0;34m\u001b[0m\u001b[0m\n\u001b[0;32m--> 759\u001b[0;31m                          op_def=op_def)\n\u001b[0m\u001b[1;32m    760\u001b[0m         \u001b[0;32mif\u001b[0m \u001b[0moutput_structure\u001b[0m\u001b[0;34m:\u001b[0m\u001b[0;34m\u001b[0m\u001b[0m\n\u001b[1;32m    761\u001b[0m           \u001b[0moutputs\u001b[0m \u001b[0;34m=\u001b[0m \u001b[0mop\u001b[0m\u001b[0;34m.\u001b[0m\u001b[0moutputs\u001b[0m\u001b[0;34m\u001b[0m\u001b[0m\n",
      "\u001b[0;32m/Users/EJ/miniconda2/envs/mlp/lib/python2.7/site-packages/tensorflow/python/framework/ops.pyc\u001b[0m in \u001b[0;36mcreate_op\u001b[0;34m(self, op_type, inputs, dtypes, input_types, name, attrs, op_def, compute_shapes, compute_device)\u001b[0m\n\u001b[1;32m   2240\u001b[0m                     original_op=self._default_original_op, op_def=op_def)\n\u001b[1;32m   2241\u001b[0m     \u001b[0;32mif\u001b[0m \u001b[0mcompute_shapes\u001b[0m\u001b[0;34m:\u001b[0m\u001b[0;34m\u001b[0m\u001b[0m\n\u001b[0;32m-> 2242\u001b[0;31m       \u001b[0mset_shapes_for_outputs\u001b[0m\u001b[0;34m(\u001b[0m\u001b[0mret\u001b[0m\u001b[0;34m)\u001b[0m\u001b[0;34m\u001b[0m\u001b[0m\n\u001b[0m\u001b[1;32m   2243\u001b[0m     \u001b[0mself\u001b[0m\u001b[0;34m.\u001b[0m\u001b[0m_add_op\u001b[0m\u001b[0;34m(\u001b[0m\u001b[0mret\u001b[0m\u001b[0;34m)\u001b[0m\u001b[0;34m\u001b[0m\u001b[0m\n\u001b[1;32m   2244\u001b[0m     \u001b[0mself\u001b[0m\u001b[0;34m.\u001b[0m\u001b[0m_record_op_seen_by_control_dependencies\u001b[0m\u001b[0;34m(\u001b[0m\u001b[0mret\u001b[0m\u001b[0;34m)\u001b[0m\u001b[0;34m\u001b[0m\u001b[0m\n",
      "\u001b[0;32m/Users/EJ/miniconda2/envs/mlp/lib/python2.7/site-packages/tensorflow/python/framework/ops.pyc\u001b[0m in \u001b[0;36mset_shapes_for_outputs\u001b[0;34m(op)\u001b[0m\n\u001b[1;32m   1615\u001b[0m       \u001b[0mshape_func\u001b[0m \u001b[0;34m=\u001b[0m \u001b[0m_call_cpp_shape_fn_and_require_op\u001b[0m\u001b[0;34m\u001b[0m\u001b[0m\n\u001b[1;32m   1616\u001b[0m \u001b[0;34m\u001b[0m\u001b[0m\n\u001b[0;32m-> 1617\u001b[0;31m   \u001b[0mshapes\u001b[0m \u001b[0;34m=\u001b[0m \u001b[0mshape_func\u001b[0m\u001b[0;34m(\u001b[0m\u001b[0mop\u001b[0m\u001b[0;34m)\u001b[0m\u001b[0;34m\u001b[0m\u001b[0m\n\u001b[0m\u001b[1;32m   1618\u001b[0m   \u001b[0;32mif\u001b[0m \u001b[0mshapes\u001b[0m \u001b[0;32mis\u001b[0m \u001b[0mNone\u001b[0m\u001b[0;34m:\u001b[0m\u001b[0;34m\u001b[0m\u001b[0m\n\u001b[1;32m   1619\u001b[0m     raise RuntimeError(\n",
      "\u001b[0;32m/Users/EJ/miniconda2/envs/mlp/lib/python2.7/site-packages/tensorflow/python/framework/ops.pyc\u001b[0m in \u001b[0;36mcall_with_requiring\u001b[0;34m(op)\u001b[0m\n\u001b[1;32m   1566\u001b[0m \u001b[0;34m\u001b[0m\u001b[0m\n\u001b[1;32m   1567\u001b[0m   \u001b[0;32mdef\u001b[0m \u001b[0mcall_with_requiring\u001b[0m\u001b[0;34m(\u001b[0m\u001b[0mop\u001b[0m\u001b[0;34m)\u001b[0m\u001b[0;34m:\u001b[0m\u001b[0;34m\u001b[0m\u001b[0m\n\u001b[0;32m-> 1568\u001b[0;31m     \u001b[0;32mreturn\u001b[0m \u001b[0mcall_cpp_shape_fn\u001b[0m\u001b[0;34m(\u001b[0m\u001b[0mop\u001b[0m\u001b[0;34m,\u001b[0m \u001b[0mrequire_shape_fn\u001b[0m\u001b[0;34m=\u001b[0m\u001b[0mTrue\u001b[0m\u001b[0;34m)\u001b[0m\u001b[0;34m\u001b[0m\u001b[0m\n\u001b[0m\u001b[1;32m   1569\u001b[0m \u001b[0;34m\u001b[0m\u001b[0m\n\u001b[1;32m   1570\u001b[0m   \u001b[0m_call_cpp_shape_fn_and_require_op\u001b[0m \u001b[0;34m=\u001b[0m \u001b[0mcall_with_requiring\u001b[0m\u001b[0;34m\u001b[0m\u001b[0m\n",
      "\u001b[0;32m/Users/EJ/miniconda2/envs/mlp/lib/python2.7/site-packages/tensorflow/python/framework/common_shapes.pyc\u001b[0m in \u001b[0;36mcall_cpp_shape_fn\u001b[0;34m(op, input_tensors_needed, input_tensors_as_shapes_needed, debug_python_shape_fn, require_shape_fn)\u001b[0m\n\u001b[1;32m    608\u001b[0m     res = _call_cpp_shape_fn_impl(op, input_tensors_needed,\n\u001b[1;32m    609\u001b[0m                                   \u001b[0minput_tensors_as_shapes_needed\u001b[0m\u001b[0;34m,\u001b[0m\u001b[0;34m\u001b[0m\u001b[0m\n\u001b[0;32m--> 610\u001b[0;31m                                   debug_python_shape_fn, require_shape_fn)\n\u001b[0m\u001b[1;32m    611\u001b[0m     \u001b[0;32mif\u001b[0m \u001b[0;32mnot\u001b[0m \u001b[0misinstance\u001b[0m\u001b[0;34m(\u001b[0m\u001b[0mres\u001b[0m\u001b[0;34m,\u001b[0m \u001b[0mdict\u001b[0m\u001b[0;34m)\u001b[0m\u001b[0;34m:\u001b[0m\u001b[0;34m\u001b[0m\u001b[0m\n\u001b[1;32m    612\u001b[0m       \u001b[0;31m# Handles the case where _call_cpp_shape_fn_impl calls unknown_shape(op).\u001b[0m\u001b[0;34m\u001b[0m\u001b[0;34m\u001b[0m\u001b[0m\n",
      "\u001b[0;32m/Users/EJ/miniconda2/envs/mlp/lib/python2.7/site-packages/tensorflow/python/framework/common_shapes.pyc\u001b[0m in \u001b[0;36m_call_cpp_shape_fn_impl\u001b[0;34m(op, input_tensors_needed, input_tensors_as_shapes_needed, debug_python_shape_fn, require_shape_fn)\u001b[0m\n\u001b[1;32m    673\u001b[0m       \u001b[0mmissing_shape_fn\u001b[0m \u001b[0;34m=\u001b[0m \u001b[0mTrue\u001b[0m\u001b[0;34m\u001b[0m\u001b[0m\n\u001b[1;32m    674\u001b[0m     \u001b[0;32melse\u001b[0m\u001b[0;34m:\u001b[0m\u001b[0;34m\u001b[0m\u001b[0m\n\u001b[0;32m--> 675\u001b[0;31m       \u001b[0;32mraise\u001b[0m \u001b[0mValueError\u001b[0m\u001b[0;34m(\u001b[0m\u001b[0merr\u001b[0m\u001b[0;34m.\u001b[0m\u001b[0mmessage\u001b[0m\u001b[0;34m)\u001b[0m\u001b[0;34m\u001b[0m\u001b[0m\n\u001b[0m\u001b[1;32m    676\u001b[0m \u001b[0;34m\u001b[0m\u001b[0m\n\u001b[1;32m    677\u001b[0m   \u001b[0;32mif\u001b[0m \u001b[0mmissing_shape_fn\u001b[0m\u001b[0;34m:\u001b[0m\u001b[0;34m\u001b[0m\u001b[0m\n",
      "\u001b[0;31mValueError\u001b[0m: Shape must be rank 2 but is rank 0 for 'fc_1/MatMul' (op: 'MatMul') with input shapes: [?,1536], []."
     ]
    }
   ],
   "source": [
    "weight_decays = [None]\n",
    "\n",
    "lr = 0.005\n",
    "acs = [tf.nn.relu]\n",
    "f_sizes = [3]\n",
    "num_f = [24]\n",
    "epochs = 10\n",
    "\n",
    "for wd in weight_decays:\n",
    "    for ac in acs:\n",
    "        for fs in f_sizes:\n",
    "            for nf in num_f:\n",
    "                layers = [\n",
    "                    Conv2dLayer([fs, fs, 3, nf], [nf], 'conv_1', True),\n",
    "                    PoolLayer('pool_1'),\n",
    "                    Conv2dLayer([fs, fs, nf, nf], [nf], 'conv_2', True),\n",
    "                    PoolLayer('pool_2'),\n",
    "                    AffineLayer(name='fc_1', flatten_inputs=True, weight_decay=wd),\n",
    "                    AffineLayer(name='fc_2', weight_decay=wd),\n",
    "                    AffineLayer(name='output', final_layer=True)\n",
    "                ]\n",
    "\n",
    "                _mo = Model(\n",
    "                    'test/cw4/{},fs={},nf={},lr={},bn,wd={}'.format(ac.func_name, fs, nf, lr, wd),\n",
    "                    layers=layers,\n",
    "                    activation=ac,\n",
    "                    train_epochs=epochs,\n",
    "                    initial_lr=lr\n",
    "                )\n",
    "\n",
    "                train_model.train_graph(_mo)"
   ]
  },
  {
   "cell_type": "code",
   "execution_count": null,
   "metadata": {
    "collapsed": true
   },
   "outputs": [],
   "source": []
  }
 ],
 "metadata": {
  "kernelspec": {
   "display_name": "Python [conda env:mlp]",
   "language": "python",
   "name": "conda-env-mlp-py"
  },
  "language_info": {
   "codemirror_mode": {
    "name": "ipython",
    "version": 2
   },
   "file_extension": ".py",
   "mimetype": "text/x-python",
   "name": "python",
   "nbconvert_exporter": "python",
   "pygments_lexer": "ipython2",
   "version": "2.7.12"
  }
 },
 "nbformat": 4,
 "nbformat_minor": 1
}
