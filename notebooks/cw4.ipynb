{
 "cells": [
  {
   "cell_type": "code",
   "execution_count": 7,
   "metadata": {
    "collapsed": true
   },
   "outputs": [],
   "source": [
    "from cw_4.layer import Conv2dLayer, PoolLayer, AffineLayer\n",
    "from cw_4.model import Model\n",
    "import cw_4.train as train_model\n",
    "import tensorflow as tf"
   ]
  },
  {
   "cell_type": "markdown",
   "metadata": {},
   "source": [
    "# BASE RUN"
   ]
  },
  {
   "cell_type": "code",
   "execution_count": 9,
   "metadata": {
    "collapsed": false
   },
   "outputs": [
    {
     "name": "stdout",
     "output_type": "stream",
     "text": [
      "Epoch 01: err(train)=1.47 acc(train)=0.49\n",
      "          err(valid)=1.33 acc(valid)=0.53\n",
      "Epoch 02: err(train)=1.18 acc(train)=0.58\n",
      "          err(valid)=1.18 acc(valid)=0.59\n",
      "Epoch 03: err(train)=1.06 acc(train)=0.63\n",
      "          err(valid)=1.11 acc(valid)=0.61\n",
      "Epoch 04: err(train)=0.96 acc(train)=0.66\n",
      "          err(valid)=1.04 acc(valid)=0.64\n",
      "Epoch 05: err(train)=0.88 acc(train)=0.69\n",
      "          err(valid)=1.04 acc(valid)=0.64\n",
      "Epoch 01: err(train)=1.46 acc(train)=0.49\n",
      "          err(valid)=1.23 acc(valid)=0.57\n",
      "Epoch 02: err(train)=1.14 acc(train)=0.60\n",
      "          err(valid)=1.16 acc(valid)=0.60\n",
      "Epoch 03: err(train)=1.02 acc(train)=0.64\n",
      "          err(valid)=1.08 acc(valid)=0.62\n",
      "Epoch 04: err(train)=0.90 acc(train)=0.68\n",
      "          err(valid)=1.03 acc(valid)=0.64\n",
      "Epoch 05: err(train)=0.80 acc(train)=0.72\n",
      "          err(valid)=1.05 acc(valid)=0.63\n",
      "Epoch 01: err(train)=2.09 acc(train)=0.23\n",
      "          err(valid)=1.83 acc(valid)=0.34\n",
      "Epoch 02: err(train)=1.69 acc(train)=0.39\n",
      "          err(valid)=1.56 acc(valid)=0.45\n",
      "Epoch 03: err(train)=1.52 acc(train)=0.45\n",
      "          err(valid)=1.54 acc(valid)=0.45\n",
      "Epoch 04: err(train)=1.43 acc(train)=0.49\n",
      "          err(valid)=1.44 acc(valid)=0.49\n",
      "Epoch 05: err(train)=1.37 acc(train)=0.51\n",
      "          err(valid)=1.37 acc(valid)=0.51\n",
      "Epoch 01: err(train)=1.41 acc(train)=0.49\n",
      "          err(valid)=1.18 acc(valid)=0.58\n",
      "Epoch 02: err(train)=1.04 acc(train)=0.63\n",
      "          err(valid)=1.00 acc(valid)=0.65\n",
      "Epoch 03: err(train)=0.86 acc(train)=0.70\n",
      "          err(valid)=0.98 acc(valid)=0.66\n",
      "Epoch 04: err(train)=0.71 acc(train)=0.75\n",
      "          err(valid)=0.89 acc(valid)=0.69\n",
      "Epoch 05: err(train)=0.56 acc(train)=0.80\n",
      "          err(valid)=0.97 acc(valid)=0.68\n",
      "Epoch 01: err(train)=2.60 acc(train)=0.10\n",
      "          err(valid)=2.58 acc(valid)=0.10\n",
      "Epoch 02: err(train)=2.57 acc(train)=0.10\n",
      "          err(valid)=2.62 acc(valid)=0.10\n",
      "Epoch 03: err(train)=2.56 acc(train)=0.10\n",
      "          err(valid)=2.44 acc(valid)=0.10\n",
      "Epoch 04: err(train)=2.55 acc(train)=0.10\n",
      "          err(valid)=2.49 acc(valid)=0.10\n",
      "Epoch 05: err(train)=2.57 acc(train)=0.10\n",
      "          err(valid)=2.59 acc(valid)=0.10\n",
      "Epoch 01: err(train)=2.82 acc(train)=0.28\n",
      "          err(valid)=2.44 acc(valid)=0.10\n",
      "Epoch 02: err(train)=2.50 acc(train)=0.10\n",
      "          err(valid)=2.60 acc(valid)=0.10\n",
      "Epoch 03: err(train)=2.53 acc(train)=0.10\n",
      "          err(valid)=2.46 acc(valid)=0.10\n",
      "Epoch 04: err(train)=2.54 acc(train)=0.10\n",
      "          err(valid)=2.45 acc(valid)=0.10\n",
      "Epoch 05: err(train)=2.56 acc(train)=0.10\n",
      "          err(valid)=2.57 acc(valid)=0.10\n",
      "Epoch 01: err(train)=2.44 acc(train)=0.10\n",
      "          err(valid)=2.40 acc(valid)=0.10\n",
      "Epoch 02: err(train)=2.42 acc(train)=0.10\n",
      "          err(valid)=2.46 acc(valid)=0.10\n",
      "Epoch 03: err(train)=2.41 acc(train)=0.10\n",
      "          err(valid)=2.42 acc(valid)=0.10\n",
      "Epoch 04: err(train)=2.42 acc(train)=0.10\n",
      "          err(valid)=2.37 acc(valid)=0.10\n",
      "Epoch 05: err(train)=2.42 acc(train)=0.10\n",
      "          err(valid)=2.39 acc(valid)=0.10\n",
      "Epoch 01: err(train)=2.32 acc(train)=0.09\n",
      "          err(valid)=2.30 acc(valid)=0.10\n",
      "Epoch 02: err(train)=2.30 acc(train)=0.10\n",
      "          err(valid)=2.30 acc(valid)=0.10\n",
      "Epoch 03: err(train)=2.30 acc(train)=0.10\n",
      "          err(valid)=2.30 acc(valid)=0.10\n",
      "Epoch 04: err(train)=2.30 acc(train)=0.10\n",
      "          err(valid)=2.30 acc(valid)=0.10\n",
      "Epoch 05: err(train)=2.30 acc(train)=0.10\n",
      "          err(valid)=2.30 acc(valid)=0.10\n"
     ]
    }
   ],
   "source": [
    "wd = None\n",
    "lrs = [0.001, 0.01]\n",
    "acs = [tf.tanh, tf.nn.elu, tf.sigmoid, tf.nn.relu]\n",
    "epochs = 5\n",
    "\n",
    "for lr in lrs:\n",
    "    for ac in acs:\n",
    "    \n",
    "        layers = [\n",
    "            Conv2dLayer([3, 3, 3, 24], [24], 'conv_1'),\n",
    "            PoolLayer('pool_1'),\n",
    "            Conv2dLayer([3, 3, 24, 24], [24], 'conv_2'),\n",
    "            PoolLayer('pool_2'),\n",
    "            AffineLayer(name='fc_1', flatten_inputs=True),\n",
    "            AffineLayer(name='fc_2'),\n",
    "            AffineLayer(name='output', final_layer=True)\n",
    "        ]\n",
    "\n",
    "        _mo = Model(\n",
    "            'cw4/conv2,fc2,{},fs=3,nf=24,lr={}'.format(ac, lr),\n",
    "            layers=layers,\n",
    "            activation=ac,\n",
    "            train_epochs=epochs,\n",
    "            initial_lr=lr\n",
    "        )\n",
    "        train_model.train_graph(_mo)"
   ]
  },
  {
   "cell_type": "code",
   "execution_count": null,
   "metadata": {
    "collapsed": true
   },
   "outputs": [],
   "source": []
  }
 ],
 "metadata": {
  "kernelspec": {
   "display_name": "Python [conda env:mlp]",
   "language": "python",
   "name": "conda-env-mlp-py"
  },
  "language_info": {
   "codemirror_mode": {
    "name": "ipython",
    "version": 2
   },
   "file_extension": ".py",
   "mimetype": "text/x-python",
   "name": "python",
   "nbconvert_exporter": "python",
   "pygments_lexer": "ipython2",
   "version": "2.7.12"
  }
 },
 "nbformat": 4,
 "nbformat_minor": 1
}
