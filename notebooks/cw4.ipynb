{
 "cells": [
  {
   "cell_type": "code",
   "execution_count": 2,
   "metadata": {
    "collapsed": true
   },
   "outputs": [],
   "source": [
    "from cw_4.layer import Conv2dLayer, PoolLayer, AffineLayer\n",
    "from cw_4.model import Model\n",
    "import cw_4.train as train_model\n",
    "import tensorflow as tf"
   ]
  },
  {
   "cell_type": "code",
   "execution_count": null,
   "metadata": {
    "collapsed": false
   },
   "outputs": [],
   "source": [
    "wd = 0.005\n",
    "\n",
    "# ROUND 1\n",
    "lrs = [0.003]\n",
    "epochs = 3\n",
    "\n",
    "for lr in lrs:\n",
    "    \n",
    "    layers = [\n",
    "        Conv2dLayer([3, 3, 3, 24], [24], 'conv_1', True),\n",
    "        PoolLayer('pool_1'),\n",
    "        Conv2dLayer([3, 3, 24, 24], [24], 'conv_2', True),\n",
    "        PoolLayer('pool_2'),\n",
    "        AffineLayer('fc_1', True, wd),\n",
    "        AffineLayer('fc_2', False, wd),\n",
    "        AffineLayer('output', final_layer=True)\n",
    "    ]\n",
    "\n",
    "    _mo = Model(\n",
    "        'lr2/conv2,fc3,bn,fs=3,nf=24,wd={},lr={}'.format(wd, lr),\n",
    "        layers=layers,\n",
    "        activation=tf.nn.elu,\n",
    "        train_epochs=epochs,\n",
    "        initial_lr=lr\n",
    "    )\n",
    "    train_model.train_graph(_mo)"
   ]
  },
  {
   "cell_type": "code",
   "execution_count": null,
   "metadata": {
    "collapsed": true
   },
   "outputs": [],
   "source": []
  }
 ],
 "metadata": {
  "kernelspec": {
   "display_name": "Python [conda env:mlp]",
   "language": "python",
   "name": "conda-env-mlp-py"
  },
  "language_info": {
   "codemirror_mode": {
    "name": "ipython",
    "version": 2
   },
   "file_extension": ".py",
   "mimetype": "text/x-python",
   "name": "python",
   "nbconvert_exporter": "python",
   "pygments_lexer": "ipython2",
   "version": "2.7.12"
  }
 },
 "nbformat": 4,
 "nbformat_minor": 1
}
