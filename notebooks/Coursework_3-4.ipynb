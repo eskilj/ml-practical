{
 "cells": [
  {
   "cell_type": "markdown",
   "metadata": {},
   "source": [
    "## Example two-layer classifier models\n",
    "\n",
    "Below example code is given for creating instances of the CIFAR-10 and CIFAR-100 data provider objects and using them to train simple two-layer feedforward network models with rectified linear activations in TensorFlow. You may wish to use this code as a starting point for your own experiments."
   ]
  },
  {
   "cell_type": "code",
   "execution_count": 1,
   "metadata": {
    "collapsed": false
   },
   "outputs": [
    {
     "name": "stderr",
     "output_type": "stream",
     "text": [
      "/Users/EJ/miniconda2/envs/mlp/lib/python2.7/site-packages/matplotlib/font_manager.py:273: UserWarning: Matplotlib is building the font cache using fc-list. This may take a moment.\n",
      "  warnings.warn('Matplotlib is building the font cache using fc-list. This may take a moment.')\n"
     ]
    }
   ],
   "source": [
    "import os\n",
    "import tensorflow as tf\n",
    "import numpy as np\n",
    "from mlp.data_providers import CIFAR10DataProvider, CIFAR100DataProvider\n",
    "import matplotlib.pyplot as plt\n",
    "%matplotlib inline"
   ]
  },
  {
   "cell_type": "markdown",
   "metadata": {},
   "source": [
    "### CIFAR-10"
   ]
  },
  {
   "cell_type": "code",
   "execution_count": 2,
   "metadata": {
    "collapsed": false
   },
   "outputs": [],
   "source": [
    "train_data = CIFAR10DataProvider('train', batch_size=50)\n",
    "valid_data = CIFAR10DataProvider('valid', batch_size=50)"
   ]
  },
  {
   "cell_type": "code",
   "execution_count": 3,
   "metadata": {
    "collapsed": true
   },
   "outputs": [],
   "source": [
    "def fully_connected_layer(inputs, input_dim, output_dim, nonlinearity=tf.nn.relu):\n",
    "    weights = tf.Variable(\n",
    "        tf.truncated_normal(\n",
    "            [input_dim, output_dim], stddev=2. / (input_dim + output_dim)**0.5), \n",
    "        'weights')\n",
    "    biases = tf.Variable(tf.zeros([output_dim]), 'biases')\n",
    "    outputs = nonlinearity(tf.matmul(inputs, weights) + biases)\n",
    "    return outputs"
   ]
  },
  {
   "cell_type": "code",
   "execution_count": 26,
   "metadata": {
    "collapsed": false
   },
   "outputs": [],
   "source": [
    "def build_model(num_layers):\n",
    "    inputs = tf.placeholder(tf.float32, [None, train_data.inputs.shape[1]], 'inputs')\n",
    "    targets = tf.placeholder(tf.float32, [None, train_data.num_classes], 'targets')\n",
    "    \n",
    "    num_hidden = 200\n",
    "    \n",
    "    lay = dict()\n",
    "    \n",
    "    with tf.name_scope('fc-layer-1'):\n",
    "        lay['fc-layer-1'] = fully_connected_layer(inputs, train_data.inputs.shape[1], num_hidden)\n",
    "    \n",
    "    for layer in range(num_layers):\n",
    "        with tf.name_scope('fc-layer-{}'.format(layer+2)):\n",
    "            lay['fc-layer-{}'.format(layer+2)] = fully_connected_layer(lay['fc-layer-{}'.format(layer+1)], num_hidden, num_hidden)\n",
    "    \n",
    "#     print(lay)\n",
    "        \n",
    "    with tf.name_scope('output-layer'):\n",
    "        outputs = fully_connected_layer(lay['fc-layer-{}'.format(num_layers+1)], num_hidden, train_data.num_classes, tf.identity)\n",
    "\n",
    "    with tf.name_scope('error'):\n",
    "        error = tf.reduce_mean(\n",
    "            tf.nn.softmax_cross_entropy_with_logits(outputs, targets))\n",
    "    with tf.name_scope('accuracy'):\n",
    "        accuracy = tf.reduce_mean(tf.cast(\n",
    "                tf.equal(tf.argmax(outputs, 1), tf.argmax(targets, 1)), \n",
    "                tf.float32))\n",
    "\n",
    "    with tf.name_scope('train'):\n",
    "        train_step = tf.train.AdamOptimizer().minimize(error)\n",
    "\n",
    "    init = tf.global_variables_initializer()\n",
    "    \n",
    "    with tf.Session() as sess:\n",
    "        sess.run(init)\n",
    "        for e in range(5):\n",
    "            running_error = 0.\n",
    "            running_accuracy = 0.\n",
    "\n",
    "            for input_batch, target_batch in train_data:\n",
    "                _, batch_error, batch_acc = sess.run(\n",
    "                    [train_step, error, accuracy], \n",
    "                    feed_dict={inputs: input_batch, targets: target_batch})\n",
    "\n",
    "                running_error += batch_error\n",
    "                running_accuracy += batch_acc\n",
    "\n",
    "            running_error /= train_data.num_batches\n",
    "            running_accuracy /= train_data.num_batches\n",
    "            print('End of epoch {0:02d}: err(train)={1:.2f} acc(train)={2:.2f}'\n",
    "                  .format(e + 1, running_error, running_accuracy))\n",
    "\n",
    "            if (e + 1) % 5 == 0:\n",
    "                valid_error = 0.\n",
    "                valid_accuracy = 0.\n",
    "                for input_batch, target_batch in valid_data:\n",
    "                    batch_error, batch_acc = sess.run(\n",
    "                        [error, accuracy], \n",
    "                        feed_dict={inputs: input_batch, targets: target_batch})\n",
    "                    valid_error += batch_error\n",
    "                    valid_accuracy += batch_acc\n",
    "\n",
    "                valid_error /= valid_data.num_batches\n",
    "                valid_accuracy /= valid_data.num_batches\n",
    "                print('                 err(valid)={0:.2f} acc(valid)={1:.2f}'\n",
    "                       .format(valid_error, valid_accuracy))"
   ]
  },
  {
   "cell_type": "code",
   "execution_count": 27,
   "metadata": {
    "collapsed": false
   },
   "outputs": [
    {
     "name": "stdout",
     "output_type": "stream",
     "text": [
      "{'fc-layer-4': <tf.Tensor 'fc-layer-4_2/Relu:0' shape=(?, 200) dtype=float32>, 'fc-layer-5': <tf.Tensor 'fc-layer-5/Relu:0' shape=(?, 200) dtype=float32>, 'fc-layer-6': <tf.Tensor 'fc-layer-6/Relu:0' shape=(?, 200) dtype=float32>, 'fc-layer-1': <tf.Tensor 'fc-layer-1_9/Relu:0' shape=(?, 200) dtype=float32>, 'fc-layer-2': <tf.Tensor 'fc-layer-2_3/Relu:0' shape=(?, 200) dtype=float32>, 'fc-layer-3': <tf.Tensor 'fc-layer-3_2/Relu:0' shape=(?, 200) dtype=float32>}\n",
      "End of epoch 01: err(train)=1.92 acc(train)=0.30\n",
      "End of epoch 02: err(train)=1.75 acc(train)=0.37\n",
      "End of epoch 03: err(train)=1.67 acc(train)=0.40\n",
      "End of epoch 04: err(train)=1.61 acc(train)=0.42\n",
      "End of epoch 05: err(train)=1.56 acc(train)=0.44\n",
      "                 err(valid)=1.59 acc(valid)=0.43\n"
     ]
    }
   ],
   "source": [
    "build_model(5)"
   ]
  },
  {
   "cell_type": "code",
   "execution_count": 6,
   "metadata": {
    "collapsed": false
   },
   "outputs": [],
   "source": [
    "inputs = tf.placeholder(tf.float32, [None, train_data.inputs.shape[1]], 'inputs')\n",
    "targets = tf.placeholder(tf.float32, [None, train_data.num_classes], 'targets')\n",
    "num_hidden = 200\n",
    "\n",
    "with tf.name_scope('fc-layer-1'):\n",
    "    hidden_1 = fully_connected_layer(inputs, train_data.inputs.shape[1], num_hidden)\n",
    "with tf.name_scope('fc-layer-2'):\n",
    "    hidden_2 = fully_connected_layer(hidden_1, num_hidden, num_hidden)\n",
    "with tf.name_scope('output-layer'):\n",
    "    outputs = fully_connected_layer(hidden_2, num_hidden, train_data.num_classes, tf.identity)\n",
    "\n",
    "with tf.name_scope('error'):\n",
    "    error = tf.reduce_mean(\n",
    "        tf.nn.softmax_cross_entropy_with_logits(outputs, targets))\n",
    "with tf.name_scope('accuracy'):\n",
    "    accuracy = tf.reduce_mean(tf.cast(\n",
    "            tf.equal(tf.argmax(outputs, 1), tf.argmax(targets, 1)), \n",
    "            tf.float32))\n",
    "\n",
    "with tf.name_scope('train'):\n",
    "    train_step = tf.train.AdamOptimizer().minimize(error)\n",
    "    \n",
    "init = tf.global_variables_initializer()"
   ]
  },
  {
   "cell_type": "code",
   "execution_count": null,
   "metadata": {
    "collapsed": false
   },
   "outputs": [],
   "source": [
    "with tf.Session() as sess:\n",
    "    sess.run(init)\n",
    "    for e in range(100):\n",
    "        running_error = 0.\n",
    "        running_accuracy = 0.\n",
    "        \n",
    "        for input_batch, target_batch in train_data:\n",
    "            _, batch_error, batch_acc = sess.run(\n",
    "                [train_step, error, accuracy], \n",
    "                feed_dict={inputs: input_batch, targets: target_batch})\n",
    "            \n",
    "            running_error += batch_error\n",
    "            running_accuracy += batch_acc\n",
    "            \n",
    "        running_error /= train_data.num_batches\n",
    "        running_accuracy /= train_data.num_batches\n",
    "        print('End of epoch {0:02d}: err(train)={1:.2f} acc(train)={2:.2f}'\n",
    "              .format(e + 1, running_error, running_accuracy))\n",
    "        \n",
    "        if (e + 1) % 5 == 0:\n",
    "            valid_error = 0.\n",
    "            valid_accuracy = 0.\n",
    "            for input_batch, target_batch in valid_data:\n",
    "                batch_error, batch_acc = sess.run(\n",
    "                    [error, accuracy], \n",
    "                    feed_dict={inputs: input_batch, targets: target_batch})\n",
    "                valid_error += batch_error\n",
    "                valid_accuracy += batch_acc\n",
    "                \n",
    "            valid_error /= valid_data.num_batches\n",
    "            valid_accuracy /= valid_data.num_batches\n",
    "            print('                 err(valid)={0:.2f} acc(valid)={1:.2f}'\n",
    "                   .format(valid_error, valid_accuracy))"
   ]
  },
  {
   "cell_type": "code",
   "execution_count": null,
   "metadata": {
    "collapsed": true
   },
   "outputs": [],
   "source": []
  }
 ],
 "metadata": {
  "anaconda-cloud": {},
  "kernelspec": {
   "display_name": "Python [conda env:mlp]",
   "language": "python",
   "name": "conda-env-mlp-py"
  },
  "language_info": {
   "codemirror_mode": {
    "name": "ipython",
    "version": 2
   },
   "file_extension": ".py",
   "mimetype": "text/x-python",
   "name": "python",
   "nbconvert_exporter": "python",
   "pygments_lexer": "ipython2",
   "version": "2.7.12"
  }
 },
 "nbformat": 4,
 "nbformat_minor": 1
}
